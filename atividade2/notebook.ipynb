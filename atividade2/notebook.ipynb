{
 "cells": [
  {
   "cell_type": "code",
   "execution_count": 1,
   "id": "11b1ce91",
   "metadata": {
    "scrolled": false
   },
   "outputs": [
    {
     "name": "stdout",
     "output_type": "stream",
     "text": [
      "Defaulting to user installation because normal site-packages is not writeable\n",
      "Requirement already satisfied: pulp in /home/gabriel/.local/lib/python3.8/site-packages (2.6.0)\n",
      "Note: you may need to restart the kernel to use updated packages.\n"
     ]
    }
   ],
   "source": [
    "%pip install pulp\n",
    "import pulp"
   ]
  },
  {
   "cell_type": "markdown",
   "id": "e76a8f9b",
   "metadata": {},
   "source": [
    "# Q1"
   ]
  },
  {
   "cell_type": "code",
   "execution_count": 21,
   "id": "a47825e5",
   "metadata": {},
   "outputs": [],
   "source": [
    "prob = pulp.LpProblem('Q1', pulp.LpMinimize)"
   ]
  },
  {
   "cell_type": "code",
   "execution_count": 22,
   "id": "a9c4e7cb",
   "metadata": {},
   "outputs": [],
   "source": [
    "x = pulp.LpVariable('x', lowBound = 0, cat = 'Continuous')\n",
    "y = pulp.LpVariable('y', lowBound = 0, cat = 'Continuous')"
   ]
  },
  {
   "cell_type": "code",
   "execution_count": 23,
   "id": "940766b2",
   "metadata": {},
   "outputs": [],
   "source": [
    "z = 0.26*x + 0.32*y\n",
    "prob += z"
   ]
  },
  {
   "cell_type": "code",
   "execution_count": 24,
   "id": "f14e30b9",
   "metadata": {},
   "outputs": [],
   "source": [
    "rest1 = 0.07*x + 0.21*y\n",
    "rest2 = 0.82*x + 0.79*y\n",
    "prob += (rest1 >= 0.34)\n",
    "prob += (rest2 >= 2.64)"
   ]
  },
  {
   "cell_type": "code",
   "execution_count": 25,
   "id": "411387c3",
   "metadata": {
    "scrolled": true
   },
   "outputs": [
    {
     "data": {
      "text/plain": [
       "Q1:\n",
       "MINIMIZE\n",
       "0.26*x + 0.32*y + 0.0\n",
       "SUBJECT TO\n",
       "_C1: 0.07 x + 0.21 y >= 0.34\n",
       "\n",
       "_C2: 0.82 x + 0.79 y >= 2.64\n",
       "\n",
       "VARIABLES\n",
       "x Continuous\n",
       "y Continuous"
      ]
     },
     "execution_count": 25,
     "metadata": {},
     "output_type": "execute_result"
    }
   ],
   "source": [
    "prob"
   ]
  },
  {
   "cell_type": "code",
   "execution_count": 26,
   "id": "4eac9ee4",
   "metadata": {},
   "outputs": [],
   "source": [
    "optimization_result = prob.solve()"
   ]
  },
  {
   "cell_type": "code",
   "execution_count": 27,
   "id": "53742bae",
   "metadata": {},
   "outputs": [],
   "source": [
    "assert optimization_result == pulp.LpStatusOptimal"
   ]
  },
  {
   "cell_type": "code",
   "execution_count": 28,
   "id": "0a5e9c4d",
   "metadata": {
    "scrolled": true
   },
   "outputs": [
    {
     "name": "stdout",
     "output_type": "stream",
     "text": [
      "x:2.4448246\n",
      "y:0.80410607\n"
     ]
    }
   ],
   "source": [
    "for var in (x,y):\n",
    "    print(f'{var.name}:{var.value()}')"
   ]
  },
  {
   "cell_type": "markdown",
   "id": "0ebb38fe",
   "metadata": {},
   "source": [
    "# Q2"
   ]
  },
  {
   "cell_type": "code",
   "execution_count": 2,
   "id": "736bf7b7",
   "metadata": {},
   "outputs": [],
   "source": [
    "# definindo o problema como maximização\n",
    "prob = pulp.LpProblem('Problema_do_investimento', pulp.LpMaximize)"
   ]
  },
  {
   "cell_type": "code",
   "execution_count": 3,
   "id": "4cae590d",
   "metadata": {},
   "outputs": [],
   "source": [
    "# definindo as variáveis de decisão\n",
    "x1 = pulp.LpVariable('Deposito_1', lowBound=0, cat='Integer')\n",
    "x2 = pulp.LpVariable('Deposito_2', lowBound=0, cat='Integer')\n",
    "x3 = pulp.LpVariable('Deposito_3', lowBound=0, cat='Integer')"
   ]
  },
  {
   "cell_type": "code",
   "execution_count": 4,
   "id": "ddaa5159",
   "metadata": {},
   "outputs": [],
   "source": [
    "# definindo a função objetivo\n",
    "lucro = (0.08*x1 + 0.17*x2 + 0.27*x3) * 22000\n",
    "\n",
    "# add a função objetivo\n",
    "prob += lucro"
   ]
  },
  {
   "cell_type": "code",
   "execution_count": 5,
   "id": "23796e3d",
   "metadata": {},
   "outputs": [],
   "source": [
    "# restrições\n",
    "total_anos = x1 + 2*x2 + 3*x3 # ==5"
   ]
  },
  {
   "cell_type": "code",
   "execution_count": 6,
   "id": "3f2cb412",
   "metadata": {},
   "outputs": [],
   "source": [
    "# add restrições\n",
    "prob += (total_anos == 5)"
   ]
  },
  {
   "cell_type": "code",
   "execution_count": 7,
   "id": "3714613c",
   "metadata": {},
   "outputs": [
    {
     "name": "stdout",
     "output_type": "stream",
     "text": [
      "Problema_do_investimento:\n",
      "MAXIMIZE\n",
      "1760.0*Deposito_1 + 3740.0000000000005*Deposito_2 + 5940.0*Deposito_3 + 0.0\n",
      "SUBJECT TO\n",
      "_C1: Deposito_1 + 2 Deposito_2 + 3 Deposito_3 = 5\n",
      "\n",
      "VARIABLES\n",
      "0 <= Deposito_1 Integer\n",
      "0 <= Deposito_2 Integer\n",
      "0 <= Deposito_3 Integer\n",
      "\n",
      "Welcome to the CBC MILP Solver \n",
      "Version: 2.10.3 \n",
      "Build Date: Dec 15 2019 \n",
      "\n",
      "command line - /home/gabriel/.local/lib/python3.8/site-packages/pulp/apis/../solverdir/cbc/linux/64/cbc /tmp/0578c83307ee400bb0b5ec04a2e1a6e8-pulp.mps max timeMode elapsed branch printingOptions all solution /tmp/0578c83307ee400bb0b5ec04a2e1a6e8-pulp.sol (default strategy 1)\n",
      "At line 2 NAME          MODEL\n",
      "At line 3 ROWS\n",
      "At line 6 COLUMNS\n",
      "At line 19 RHS\n",
      "At line 21 BOUNDS\n",
      "At line 25 ENDATA\n",
      "Problem MODEL has 1 rows, 3 columns and 3 elements\n",
      "Coin0008I MODEL read with 0 errors\n",
      "Option for timeMode changed from cpu to elapsed\n",
      "Continuous objective value is 9900 - 0.00 seconds\n",
      "Cgl0004I processed model has 1 rows, 3 columns (3 integer (1 of which binary)) and 3 elements\n",
      "Cutoff increment increased from 1e-05 to 220\n",
      "Cbc0038I Initial state - 0 integers unsatisfied sum - 2.22045e-16\n",
      "Cbc0038I Solution found of -9680\n",
      "Cbc0038I Cleaned solution of -9680\n",
      "Cbc0038I Before mini branch and bound, 3 integers at bound fixed and 0 continuous of which 1 were internal integer and 0 internal continuous\n",
      "Cbc0038I Mini branch and bound did not improve solution (0.00 seconds)\n",
      "Cbc0038I After 0.00 seconds - Feasibility pump exiting with objective of -9680 - took 0.00 seconds\n",
      "Cbc0012I Integer solution of -9680 found by feasibility pump after 0 iterations and 0 nodes (0.00 seconds)\n",
      "Cbc0001I Search completed - best objective -9680, took 0 iterations and 0 nodes (0.00 seconds)\n",
      "Cbc0035I Maximum depth 0, 0 variables fixed on reduced cost\n",
      "Cuts at root node changed objective from -9680 to -9680\n",
      "Probing was tried 0 times and created 0 cuts of which 0 were active after adding rounds of cuts (0.000 seconds)\n",
      "Gomory was tried 0 times and created 0 cuts of which 0 were active after adding rounds of cuts (0.000 seconds)\n",
      "Knapsack was tried 0 times and created 0 cuts of which 0 were active after adding rounds of cuts (0.000 seconds)\n",
      "Clique was tried 0 times and created 0 cuts of which 0 were active after adding rounds of cuts (0.000 seconds)\n",
      "MixedIntegerRounding2 was tried 0 times and created 0 cuts of which 0 were active after adding rounds of cuts (0.000 seconds)\n",
      "FlowCover was tried 0 times and created 0 cuts of which 0 were active after adding rounds of cuts (0.000 seconds)\n",
      "TwoMirCuts was tried 0 times and created 0 cuts of which 0 were active after adding rounds of cuts (0.000 seconds)\n",
      "ZeroHalf was tried 0 times and created 0 cuts of which 0 were active after adding rounds of cuts (0.000 seconds)\n",
      "\n",
      "Result - Optimal solution found\n",
      "\n",
      "Objective value:                9680.00000000\n",
      "Enumerated nodes:               0\n",
      "Total iterations:               0\n",
      "Time (CPU seconds):             0.00\n",
      "Time (Wallclock seconds):       0.00\n",
      "\n",
      "Option for printingOptions changed from normal to all\n",
      "Total time (CPU seconds):       0.00   (Wallclock seconds):       0.00\n",
      "\n"
     ]
    }
   ],
   "source": [
    "# escrevendo o prob de otimização linear\n",
    "print(prob)\n",
    "\n",
    "# resolvendo o problema\n",
    "optimization_result = prob.solve()"
   ]
  },
  {
   "cell_type": "code",
   "execution_count": 8,
   "id": "935120a1",
   "metadata": {},
   "outputs": [
    {
     "name": "stdout",
     "output_type": "stream",
     "text": [
      "A produção ótima deve ser Deposito_1: 0.0\n",
      "A produção ótima deve ser Deposito_2: 1.0\n",
      "A produção ótima deve ser Deposito_3: 1.0\n"
     ]
    }
   ],
   "source": [
    "# verificando se a solução ótima foi encontrada\n",
    "assert optimization_result == pulp.LpStatusOptimal\n",
    "\n",
    "# mostrando o resultado\n",
    "for var in (x1, x2, x3):\n",
    "    print('A produção ótima deve ser {}: {}'.format(var.name, var.value()))"
   ]
  },
  {
   "cell_type": "markdown",
   "id": "8782885a",
   "metadata": {},
   "source": [
    "# Q3\n"
   ]
  },
  {
   "cell_type": "code",
   "execution_count": null,
   "id": "83bf9a83",
   "metadata": {},
   "outputs": [],
   "source": [
    "# definindo o problema como minimização\n",
    "prob = pulp.LpProblem('Problema_do_aço', pulp.LpMinimize)"
   ]
  },
  {
   "cell_type": "code",
   "execution_count": null,
   "id": "c479a44f",
   "metadata": {},
   "outputs": [],
   "source": [
    "# definindo as variáveis de decisão\n",
    "x = pulp.LpVariable('Liga_1', lowBound=0, upBound=1, cat='Continuous')\n",
    "y = pulp.LpVariable('Liga_2', lowBound=0, upBound=1, cat='Continuous')"
   ]
  },
  {
   "cell_type": "code",
   "execution_count": null,
   "id": "0dc5b540",
   "metadata": {},
   "outputs": [],
   "source": [
    "# definindo a função objetivo\n",
    "custo = 190*x+200*y\n",
    "\n",
    "# add a função objetivo\n",
    "prob += custo"
   ]
  },
  {
   "cell_type": "code",
   "execution_count": null,
   "id": "5ada012b",
   "metadata": {},
   "outputs": [],
   "source": [
    "# restrições\n",
    "percentual = x + y\n",
    "carbonoMin = 3*x + 4*y # >= 3.2\n",
    "carbonoMax = 3*x + 4*y # <= 3.5\n",
    "\n",
    "niquelMax = x + 1.5*y # <= 1.2"
   ]
  },
  {
   "cell_type": "code",
   "execution_count": null,
   "id": "57afdca2",
   "metadata": {},
   "outputs": [],
   "source": [
    "# add restrições\n",
    "prob += (percentual == 1)\n",
    "prob += (carbonoMin >= 3.2)\n",
    "prob += (carbonoMax <= 3.5)\n",
    "prob += (niquelMax <= 1.2)"
   ]
  },
  {
   "cell_type": "code",
   "execution_count": null,
   "id": "458d2eb2",
   "metadata": {},
   "outputs": [],
   "source": [
    "# escrevendo o prob de otimização linear\n",
    "print(prob)\n",
    "\n",
    "# resolvendo o problema\n",
    "optimization_result = prob.solve()\n"
   ]
  },
  {
   "cell_type": "code",
   "execution_count": null,
   "id": "d9aec460",
   "metadata": {},
   "outputs": [],
   "source": [
    "# verificando se a solução ótima foi encontrada\n",
    "assert optimization_result == pulp.LpStatusOptimal\n",
    "\n",
    "# mostrando o resultado\n",
    "for var in (x, y):\n",
    "    print('A produção ótima deve ser {}: {}'.format(var.name, var.value()))"
   ]
  },
  {
   "cell_type": "markdown",
   "id": "32738124",
   "metadata": {},
   "source": [
    "# Q4"
   ]
  },
  {
   "cell_type": "code",
   "execution_count": 186,
   "id": "d26709ba",
   "metadata": {},
   "outputs": [],
   "source": [
    "prob = pulp.LpProblem('Q4', pulp.LpMaximize)"
   ]
  },
  {
   "cell_type": "code",
   "execution_count": 187,
   "id": "58fe795e",
   "metadata": {},
   "outputs": [],
   "source": [
    "c = pulp.LpVariable('c', lowBound = 0, cat = 'Integer')\n",
    "m = pulp.LpVariable('m', lowBound = 0, cat = 'Integer')"
   ]
  },
  {
   "cell_type": "code",
   "execution_count": 188,
   "id": "28a04d4e",
   "metadata": {},
   "outputs": [],
   "source": [
    "R = 4*c + 2*m\n",
    "prob += R"
   ]
  },
  {
   "cell_type": "code",
   "execution_count": 189,
   "id": "47fc55d9",
   "metadata": {},
   "outputs": [],
   "source": [
    "rest1 = c + 2*m\n",
    "rest2 = 4*c + m\n",
    "prob += (rest1 <= 24)\n",
    "prob += (rest2 <= 30)"
   ]
  },
  {
   "cell_type": "code",
   "execution_count": 190,
   "id": "8eef3a7b",
   "metadata": {},
   "outputs": [
    {
     "data": {
      "text/plain": [
       "Q4:\n",
       "MAXIMIZE\n",
       "4*c + 2*m + 0\n",
       "SUBJECT TO\n",
       "_C1: c + 2 m <= 24\n",
       "\n",
       "_C2: 4 c + m <= 30\n",
       "\n",
       "VARIABLES\n",
       "0 <= c Integer\n",
       "0 <= m Integer"
      ]
     },
     "execution_count": 190,
     "metadata": {},
     "output_type": "execute_result"
    }
   ],
   "source": [
    "prob"
   ]
  },
  {
   "cell_type": "code",
   "execution_count": 191,
   "id": "e24ab413",
   "metadata": {},
   "outputs": [],
   "source": [
    "optimization_result = prob.solve()"
   ]
  },
  {
   "cell_type": "code",
   "execution_count": 192,
   "id": "5d902000",
   "metadata": {},
   "outputs": [],
   "source": [
    "assert optimization_result == pulp.LpStatusOptimal"
   ]
  },
  {
   "cell_type": "code",
   "execution_count": 193,
   "id": "10438921",
   "metadata": {},
   "outputs": [
    {
     "name": "stdout",
     "output_type": "stream",
     "text": [
      "c:5.0\n",
      "m:9.0\n"
     ]
    }
   ],
   "source": [
    "for var in (c,m):\n",
    "    print(f'{var.name}:{var.value()}')"
   ]
  },
  {
   "cell_type": "markdown",
   "id": "86437acd",
   "metadata": {},
   "source": [
    "# Q5"
   ]
  },
  {
   "cell_type": "code",
   "execution_count": 4,
   "id": "0fa70b6e",
   "metadata": {},
   "outputs": [],
   "source": [
    "# definindo o problema como minimização\n",
    "prob = pulp.LpProblem('Problema_da_poluição', pulp.LpMinimize)"
   ]
  },
  {
   "cell_type": "code",
   "execution_count": 5,
   "id": "05e5ffa9",
   "metadata": {},
   "outputs": [],
   "source": [
    "# definindo as variáveis de decisão\n",
    "x1 = pulp.LpVariable('medida_1', lowBound = 0, upBound=1, cat='Continuous')\n",
    "x2 = pulp.LpVariable('medida_2', lowBound = 0, upBound=1, cat='Continuous')\n",
    "x3 = pulp.LpVariable('medida_3', lowBound = 0, upBound=1, cat='Continuous')"
   ]
  },
  {
   "cell_type": "code",
   "execution_count": 6,
   "id": "7592a02c",
   "metadata": {},
   "outputs": [],
   "source": [
    "# definindo a função objetivo\n",
    "custo = 18*x1 + 13*x2 + 20*x3\n",
    "\n",
    "# add a função objetivo\n",
    "prob += custo"
   ]
  },
  {
   "cell_type": "code",
   "execution_count": 7,
   "id": "20b270fa",
   "metadata": {},
   "outputs": [],
   "source": [
    "# restrições\n",
    "contaminanteA = 21*x1 + 45*x2 + 30*x3 # >= 60\n",
    "contaminanteB = 77*x1 + 49*x2 + 105*x3 # >= 150\n",
    "contaminanteC = 90*x1 + 62*x2 + 49*x3 # >= 125"
   ]
  },
  {
   "cell_type": "code",
   "execution_count": 8,
   "id": "37e76a1f",
   "metadata": {},
   "outputs": [],
   "source": [
    "# add restrições\n",
    "prob += (contaminanteA >= 60)\n",
    "prob += (contaminanteB >= 150)\n",
    "prob += (contaminanteC >= 125)"
   ]
  },
  {
   "cell_type": "code",
   "execution_count": 9,
   "id": "64ed6346",
   "metadata": {},
   "outputs": [
    {
     "name": "stdout",
     "output_type": "stream",
     "text": [
      "Problema_da_poluição:\n",
      "MINIMIZE\n",
      "18*medida_1 + 13*medida_2 + 20*medida_3 + 0\n",
      "SUBJECT TO\n",
      "_C1: 21 medida_1 + 45 medida_2 + 30 medida_3 >= 60\n",
      "\n",
      "_C2: 77 medida_1 + 49 medida_2 + 105 medida_3 >= 150\n",
      "\n",
      "_C3: 90 medida_1 + 62 medida_2 + 49 medida_3 >= 125\n",
      "\n",
      "VARIABLES\n",
      "medida_1 <= 1 Continuous\n",
      "medida_2 <= 1 Continuous\n",
      "medida_3 <= 1 Continuous\n",
      "\n",
      "Welcome to the CBC MILP Solver \n",
      "Version: 2.10.3 \n",
      "Build Date: Dec 15 2019 \n",
      "\n",
      "command line - /home/gabriel/.local/lib/python3.8/site-packages/pulp/apis/../solverdir/cbc/linux/64/cbc /tmp/90b161f5af564a48aecc7fd36b1852a8-pulp.mps timeMode elapsed branch printingOptions all solution /tmp/90b161f5af564a48aecc7fd36b1852a8-pulp.sol (default strategy 1)\n",
      "At line 2 NAME          MODEL\n",
      "At line 3 ROWS\n",
      "At line 8 COLUMNS\n",
      "At line 21 RHS\n",
      "At line 25 BOUNDS\n",
      "At line 29 ENDATA\n",
      "Problem MODEL has 3 rows, 3 columns and 9 elements\n",
      "Coin0008I MODEL read with 0 errors\n",
      "Option for timeMode changed from cpu to elapsed\n",
      "Presolve 3 (0) rows, 3 (0) columns and 9 (0) elements\n",
      "0  Obj 0 Primal inf 4.1507934 (3)\n",
      "3  Obj 32.680154\n",
      "Optimal - objective value 32.680154\n",
      "Optimal objective 32.68015392 - 3 iterations time 0.002\n",
      "Option for printingOptions changed from normal to all\n",
      "Total time (CPU seconds):       0.00   (Wallclock seconds):       0.00\n",
      "\n"
     ]
    }
   ],
   "source": [
    "# escrevendo o prob de otimização linear\n",
    "print(prob)\n",
    "\n",
    "# resolvendo o problema\n",
    "optimization_result = prob.solve()\n"
   ]
  },
  {
   "cell_type": "code",
   "execution_count": 10,
   "id": "eb2f8791",
   "metadata": {},
   "outputs": [
    {
     "name": "stdout",
     "output_type": "stream",
     "text": [
      "A produção ótima deve ser medida_1: 0.60292844\n",
      "A produção ótima deve ser medida_2: 0.5724447\n",
      "A produção ótima deve ser medida_3: 0.71928305\n"
     ]
    }
   ],
   "source": [
    "# verificando se a solução ótima foi encontrada\n",
    "assert optimization_result == pulp.LpStatusOptimal\n",
    "\n",
    "# mostrando o resultado\n",
    "for var in (x1, x2, x3):\n",
    "    print('A produção ótima deve ser {}: {}'.format(var.name, var.value()))"
   ]
  },
  {
   "cell_type": "markdown",
   "id": "d20157ad",
   "metadata": {},
   "source": [
    "# Q6 - Item a"
   ]
  },
  {
   "cell_type": "code",
   "execution_count": 4,
   "id": "9d92fafe",
   "metadata": {},
   "outputs": [],
   "source": [
    "prob = pulp.LpProblem('Q6a', pulp.LpMaximize)"
   ]
  },
  {
   "cell_type": "code",
   "execution_count": 5,
   "id": "357efae0",
   "metadata": {},
   "outputs": [],
   "source": [
    "x1 = pulp.LpVariable('x1', lowBound = 0, cat = 'Continuous')\n",
    "x2 = pulp.LpVariable('x2', lowBound = 0, cat = 'Continuous')"
   ]
  },
  {
   "cell_type": "code",
   "execution_count": 6,
   "id": "53d212b6",
   "metadata": {},
   "outputs": [],
   "source": [
    "#Função objetivo\n",
    "z = x1 + x2"
   ]
  },
  {
   "cell_type": "code",
   "execution_count": 7,
   "id": "2c371e18",
   "metadata": {},
   "outputs": [],
   "source": [
    "#Add a função objetivo\n",
    "prob += z"
   ]
  },
  {
   "cell_type": "code",
   "execution_count": 8,
   "id": "841a87bc",
   "metadata": {},
   "outputs": [],
   "source": [
    "# Restrições\n",
    "rest1 = x1 + x2\n",
    "rest2 = x1 - x2\n",
    "prob += (rest1 <= 4)\n",
    "prob += (rest2 >= 5)"
   ]
  },
  {
   "cell_type": "code",
   "execution_count": 9,
   "id": "5d953001",
   "metadata": {},
   "outputs": [
    {
     "data": {
      "text/plain": [
       "Q6a:\n",
       "MAXIMIZE\n",
       "1*x1 + 1*x2 + 0\n",
       "SUBJECT TO\n",
       "_C1: x1 + x2 <= 4\n",
       "\n",
       "_C2: x1 - x2 >= 5\n",
       "\n",
       "VARIABLES\n",
       "x1 Continuous\n",
       "x2 Continuous"
      ]
     },
     "execution_count": 9,
     "metadata": {},
     "output_type": "execute_result"
    }
   ],
   "source": [
    "prob"
   ]
  },
  {
   "cell_type": "code",
   "execution_count": 10,
   "id": "b26924f6",
   "metadata": {},
   "outputs": [],
   "source": [
    "optimization_result = prob.solve()"
   ]
  },
  {
   "cell_type": "code",
   "execution_count": 11,
   "id": "d8ce3d23",
   "metadata": {},
   "outputs": [
    {
     "ename": "AssertionError",
     "evalue": "",
     "output_type": "error",
     "traceback": [
      "\u001b[1;31m---------------------------------------------------------------------------\u001b[0m",
      "\u001b[1;31mAssertionError\u001b[0m                            Traceback (most recent call last)",
      "\u001b[1;32m~\\AppData\\Local\\Temp/ipykernel_9716/868659970.py\u001b[0m in \u001b[0;36m<module>\u001b[1;34m\u001b[0m\n\u001b[1;32m----> 1\u001b[1;33m \u001b[1;32massert\u001b[0m \u001b[0moptimization_result\u001b[0m \u001b[1;33m==\u001b[0m \u001b[0mpulp\u001b[0m\u001b[1;33m.\u001b[0m\u001b[0mLpStatusOptimal\u001b[0m\u001b[1;33m\u001b[0m\u001b[1;33m\u001b[0m\u001b[0m\n\u001b[0m",
      "\u001b[1;31mAssertionError\u001b[0m: "
     ]
    }
   ],
   "source": [
    "assert optimization_result == pulp.LpStatusOptimal"
   ]
  },
  {
   "cell_type": "code",
   "execution_count": 12,
   "id": "59d16764",
   "metadata": {},
   "outputs": [
    {
     "name": "stdout",
     "output_type": "stream",
     "text": [
      "x1:5.0\n",
      "x2:0.0\n"
     ]
    }
   ],
   "source": [
    "for var in (x1,x2):\n",
    "    print(f'{var.name}:{var.value()}')"
   ]
  },
  {
   "cell_type": "markdown",
   "id": "9b601907",
   "metadata": {},
   "source": [
    "# Q6 - Item b"
   ]
  },
  {
   "cell_type": "code",
   "execution_count": 13,
   "id": "fc2b9984",
   "metadata": {},
   "outputs": [],
   "source": [
    "prob = pulp.LpProblem('Q6b', pulp.LpMaximize)"
   ]
  },
  {
   "cell_type": "code",
   "execution_count": 14,
   "id": "679ff691",
   "metadata": {},
   "outputs": [],
   "source": [
    "x1 = pulp.LpVariable('x1', lowBound = 0, cat = 'Continuous')\n",
    "x2 = pulp.LpVariable('x2', lowBound = 0, cat = 'Continuous')"
   ]
  },
  {
   "cell_type": "code",
   "execution_count": 15,
   "id": "9abf4910",
   "metadata": {},
   "outputs": [],
   "source": [
    "z = 4*x1 + x2\n",
    "prob += z"
   ]
  },
  {
   "cell_type": "code",
   "execution_count": 16,
   "id": "349ef4a6",
   "metadata": {},
   "outputs": [],
   "source": [
    "rest1 = 8*x1 + 2*x2 \n",
    "rest2 = 5*x1 + 2*x2\n",
    "prob += (rest1 <= 16)\n",
    "prob += (rest2 <= 12)"
   ]
  },
  {
   "cell_type": "code",
   "execution_count": 17,
   "id": "8f7edce2",
   "metadata": {},
   "outputs": [
    {
     "data": {
      "text/plain": [
       "Q6b:\n",
       "MAXIMIZE\n",
       "4*x1 + 1*x2 + 0\n",
       "SUBJECT TO\n",
       "_C1: 8 x1 + 2 x2 <= 16\n",
       "\n",
       "_C2: 5 x1 + 2 x2 <= 12\n",
       "\n",
       "VARIABLES\n",
       "x1 Continuous\n",
       "x2 Continuous"
      ]
     },
     "execution_count": 17,
     "metadata": {},
     "output_type": "execute_result"
    }
   ],
   "source": [
    "prob"
   ]
  },
  {
   "cell_type": "code",
   "execution_count": 18,
   "id": "429b9e7d",
   "metadata": {},
   "outputs": [],
   "source": [
    "optimization_result = prob.solve()"
   ]
  },
  {
   "cell_type": "code",
   "execution_count": 19,
   "id": "91737ec6",
   "metadata": {},
   "outputs": [],
   "source": [
    "assert optimization_result == pulp.LpStatusOptimal"
   ]
  },
  {
   "cell_type": "code",
   "execution_count": 20,
   "id": "5000141f",
   "metadata": {
    "scrolled": true
   },
   "outputs": [
    {
     "name": "stdout",
     "output_type": "stream",
     "text": [
      "x1:2.0\n",
      "x2:0.0\n"
     ]
    }
   ],
   "source": [
    "for var in (x1,x2):\n",
    "    print(f'{var.name}:{var.value()}')"
   ]
  },
  {
   "cell_type": "markdown",
   "id": "c3367989",
   "metadata": {},
   "source": [
    "# Q6 - Item c"
   ]
  },
  {
   "cell_type": "code",
   "execution_count": 21,
   "id": "46e9f1bf",
   "metadata": {},
   "outputs": [],
   "source": [
    "prob = pulp.LpProblem('Q6c', pulp.LpMaximize)"
   ]
  },
  {
   "cell_type": "code",
   "execution_count": 22,
   "id": "c3f444c8",
   "metadata": {},
   "outputs": [],
   "source": [
    "x1 = pulp.LpVariable('x1', lowBound = 0, cat = 'Continuous')\n",
    "x2 = pulp.LpVariable('x2', lowBound = 0, cat = 'Continuous')"
   ]
  },
  {
   "cell_type": "code",
   "execution_count": 23,
   "id": "df66bf18",
   "metadata": {},
   "outputs": [],
   "source": [
    "z = -x1 + 3*x2\n",
    "prob += z"
   ]
  },
  {
   "cell_type": "code",
   "execution_count": 24,
   "id": "d1f5b8b9",
   "metadata": {},
   "outputs": [],
   "source": [
    "rest1 = x1 - x2\n",
    "rest2 = x1 + 2*x2\n",
    "prob += (rest1 <= 4)\n",
    "prob += (rest2 >= 4)"
   ]
  },
  {
   "cell_type": "code",
   "execution_count": 25,
   "id": "c216a834",
   "metadata": {},
   "outputs": [
    {
     "data": {
      "text/plain": [
       "Q6c:\n",
       "MAXIMIZE\n",
       "-1*x1 + 3*x2 + 0\n",
       "SUBJECT TO\n",
       "_C1: x1 - x2 <= 4\n",
       "\n",
       "_C2: x1 + 2 x2 >= 4\n",
       "\n",
       "VARIABLES\n",
       "x1 Continuous\n",
       "x2 Continuous"
      ]
     },
     "execution_count": 25,
     "metadata": {},
     "output_type": "execute_result"
    }
   ],
   "source": [
    "prob"
   ]
  },
  {
   "cell_type": "code",
   "execution_count": 26,
   "id": "8345f970",
   "metadata": {},
   "outputs": [],
   "source": [
    "optimization_result = prob.solve()"
   ]
  },
  {
   "cell_type": "code",
   "execution_count": 27,
   "id": "0dbb9f02",
   "metadata": {},
   "outputs": [
    {
     "ename": "AssertionError",
     "evalue": "",
     "output_type": "error",
     "traceback": [
      "\u001b[1;31m---------------------------------------------------------------------------\u001b[0m",
      "\u001b[1;31mAssertionError\u001b[0m                            Traceback (most recent call last)",
      "\u001b[1;32m~\\AppData\\Local\\Temp/ipykernel_9716/868659970.py\u001b[0m in \u001b[0;36m<module>\u001b[1;34m\u001b[0m\n\u001b[1;32m----> 1\u001b[1;33m \u001b[1;32massert\u001b[0m \u001b[0moptimization_result\u001b[0m \u001b[1;33m==\u001b[0m \u001b[0mpulp\u001b[0m\u001b[1;33m.\u001b[0m\u001b[0mLpStatusOptimal\u001b[0m\u001b[1;33m\u001b[0m\u001b[1;33m\u001b[0m\u001b[0m\n\u001b[0m",
      "\u001b[1;31mAssertionError\u001b[0m: "
     ]
    }
   ],
   "source": [
    "assert optimization_result == pulp.LpStatusOptimal"
   ]
  },
  {
   "cell_type": "code",
   "execution_count": 28,
   "id": "33f6bc5f",
   "metadata": {},
   "outputs": [
    {
     "name": "stdout",
     "output_type": "stream",
     "text": [
      "x1:0.0\n",
      "x2:0.0\n"
     ]
    }
   ],
   "source": [
    "for var in (x1,x2):\n",
    "    print(f'{var.name}:{var.value()}')"
   ]
  },
  {
   "cell_type": "markdown",
   "id": "f85e6d27",
   "metadata": {},
   "source": [
    "# Q6 - Item d"
   ]
  },
  {
   "cell_type": "code",
   "execution_count": 29,
   "id": "5e561ea4",
   "metadata": {},
   "outputs": [],
   "source": [
    "prob = pulp.LpProblem('Q6d', pulp.LpMaximize)"
   ]
  },
  {
   "cell_type": "code",
   "execution_count": 30,
   "id": "c6e03cdc",
   "metadata": {},
   "outputs": [],
   "source": [
    "x1 = pulp.LpVariable('x1', lowBound = 0, cat = 'Continuous')\n",
    "x2 = pulp.LpVariable('x2', lowBound = 0, cat = 'Continuous')"
   ]
  },
  {
   "cell_type": "code",
   "execution_count": 31,
   "id": "b7656520",
   "metadata": {},
   "outputs": [],
   "source": [
    "z = 3*x1 + x2\n",
    "prob += z"
   ]
  },
  {
   "cell_type": "code",
   "execution_count": 32,
   "id": "920d21e4",
   "metadata": {},
   "outputs": [],
   "source": [
    "rest1 = 2*x1 + x2\n",
    "rest2 = x1 + 3*x2\n",
    "prob += (rest1 <= 6)\n",
    "prob += (rest2 <= 9)"
   ]
  },
  {
   "cell_type": "code",
   "execution_count": 33,
   "id": "ecc253cb",
   "metadata": {},
   "outputs": [
    {
     "data": {
      "text/plain": [
       "Q6d:\n",
       "MAXIMIZE\n",
       "3*x1 + 1*x2 + 0\n",
       "SUBJECT TO\n",
       "_C1: 2 x1 + x2 <= 6\n",
       "\n",
       "_C2: x1 + 3 x2 <= 9\n",
       "\n",
       "VARIABLES\n",
       "x1 Continuous\n",
       "x2 Continuous"
      ]
     },
     "execution_count": 33,
     "metadata": {},
     "output_type": "execute_result"
    }
   ],
   "source": [
    "prob"
   ]
  },
  {
   "cell_type": "code",
   "execution_count": 34,
   "id": "424ecaa3",
   "metadata": {},
   "outputs": [],
   "source": [
    "optimization_result = prob.solve()"
   ]
  },
  {
   "cell_type": "code",
   "execution_count": 35,
   "id": "dc8890eb",
   "metadata": {},
   "outputs": [],
   "source": [
    "assert optimization_result == pulp.LpStatusOptimal"
   ]
  },
  {
   "cell_type": "code",
   "execution_count": 36,
   "id": "c183cfa8",
   "metadata": {},
   "outputs": [
    {
     "name": "stdout",
     "output_type": "stream",
     "text": [
      "x1:3.0\n",
      "x2:0.0\n"
     ]
    }
   ],
   "source": [
    "for var in (x1,x2):\n",
    "    print(f'{var.name}:{var.value()}')"
   ]
  }
 ],
 "metadata": {
  "kernelspec": {
   "display_name": "Python 3 (ipykernel)",
   "language": "python",
   "name": "python3"
  },
  "language_info": {
   "codemirror_mode": {
    "name": "ipython",
    "version": 3
   },
   "file_extension": ".py",
   "mimetype": "text/x-python",
   "name": "python",
   "nbconvert_exporter": "python",
   "pygments_lexer": "ipython3",
   "version": "3.8.10"
  },
  "vscode": {
   "interpreter": {
    "hash": "369f2c481f4da34e4445cda3fffd2e751bd1c4d706f27375911949ba6bb62e1c"
   }
  }
 },
 "nbformat": 4,
 "nbformat_minor": 5
}
