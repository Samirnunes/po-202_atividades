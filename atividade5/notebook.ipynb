{
 "cells": [
  {
   "cell_type": "code",
   "execution_count": 1,
   "id": "db3ed257",
   "metadata": {},
   "outputs": [],
   "source": [
    "from pulp import *"
   ]
  },
  {
   "cell_type": "markdown",
   "id": "2cbb075f",
   "metadata": {},
   "source": [
    "# Problema 1"
   ]
  },
  {
   "cell_type": "code",
   "execution_count": 2,
   "id": "918ec346",
   "metadata": {},
   "outputs": [],
   "source": [
    "prob1 = LpProblem('P1', LpMaximize)"
   ]
  },
  {
   "cell_type": "code",
   "execution_count": 3,
   "id": "25c2aab4",
   "metadata": {},
   "outputs": [],
   "source": [
    "x11 = pulp.LpVariable('x11', lowBound = 0, cat = 'Continuous') # Massa de açúcar no doce 1\n",
    "x12 = pulp.LpVariable('x12', lowBound = 0, cat = 'Continuous') # Massa de amêndoas no doce 1\n",
    "x13 = pulp.LpVariable('x13', lowBound = 0, cat = 'Continuous') # Massa de chocolate no doce 1\n",
    "\n",
    "x21 = pulp.LpVariable('x21', lowBound = 0, cat = 'Continuous') # Massa de açúcar no doce 2\n",
    "x22 = pulp.LpVariable('x22', lowBound = 0, cat = 'Continuous') # Massa de amêndoas no doce 2\n",
    "x23 = pulp.LpVariable('x23', lowBound = 0, cat = 'Continuous') # Massa de chocolate no doce 2"
   ]
  },
  {
   "cell_type": "code",
   "execution_count": 4,
   "id": "437d937e",
   "metadata": {},
   "outputs": [],
   "source": [
    "z = 500*(x11+x12+x13) + 400*(x21+x22+x23)\n",
    "prob1 += z"
   ]
  },
  {
   "cell_type": "code",
   "execution_count": 5,
   "id": "356961b2",
   "metadata": {},
   "outputs": [],
   "source": [
    "rest1 = x11 + x21\n",
    "rest2 = x12 + x22\n",
    "rest3 = x13 + x23\n",
    "rest4 = -x11 + 4*x12 - x13\n",
    "rest5 = -x21 + 9*x22 - x23\n",
    "rest6 = -x21 - x22 + 9*x23\n",
    "\n",
    "prob1 += (rest1 <= 10)\n",
    "prob1 += (rest2 <= 2)\n",
    "prob1 += (rest3 <= 3)\n",
    "prob1 += (rest4 >= 0)\n",
    "prob1 += (rest5 >= 0)\n",
    "prob1 += (rest6 >= 0)"
   ]
  },
  {
   "cell_type": "code",
   "execution_count": 6,
   "id": "86d662da",
   "metadata": {},
   "outputs": [],
   "source": [
    "optimization_result = prob1.solve()"
   ]
  },
  {
   "cell_type": "code",
   "execution_count": 7,
   "id": "08d74c73",
   "metadata": {},
   "outputs": [],
   "source": [
    "assert optimization_result == LpStatusOptimal"
   ]
  },
  {
   "cell_type": "code",
   "execution_count": 8,
   "id": "3ab7c6ed",
   "metadata": {},
   "outputs": [
    {
     "name": "stdout",
     "output_type": "stream",
     "text": [
      "x11:4.0\n",
      "x12:1.0\n",
      "x13:0.0\n",
      "x21:6.0\n",
      "x22:1.0\n",
      "x23:3.0\n",
      "z:6.5\n"
     ]
    }
   ],
   "source": [
    "for var in [x11,x12,x13,x21,x22,x23]:\n",
    "    print(f'{var.name}:{var.value()}')\n",
    "z = 0.5*(x11.value()+x12.value()+x13.value()) + 0.4*(x21.value()+x22.value()+x23.value())\n",
    "print('z:{}'.format(z))"
   ]
  },
  {
   "cell_type": "markdown",
   "id": "8cb7c37d",
   "metadata": {},
   "source": [
    "# Problema 2"
   ]
  },
  {
   "cell_type": "markdown",
   "id": "40aa0948",
   "metadata": {},
   "source": [
    "## a)"
   ]
  },
  {
   "cell_type": "code",
   "execution_count": 32,
   "id": "ed383e4f",
   "metadata": {},
   "outputs": [],
   "source": [
    "prob2 = LpProblem('P2', LpMinimize)"
   ]
  },
  {
   "cell_type": "code",
   "execution_count": 33,
   "id": "1db615fd",
   "metadata": {},
   "outputs": [],
   "source": [
    "x1 = pulp.LpVariable('x1', lowBound = 0, cat = 'Integer')\n",
    "x2 = pulp.LpVariable('x2', lowBound = 0, cat = 'Integer')\n",
    "x3 = pulp.LpVariable('x3', lowBound = 0, cat = 'Integer')\n",
    "x4 = pulp.LpVariable('x4', lowBound = 0, cat = 'Integer')\n",
    "x5 = pulp.LpVariable('x5', lowBound = 0, cat = 'Integer')"
   ]
  },
  {
   "cell_type": "code",
   "execution_count": 34,
   "id": "fae0ba87",
   "metadata": {},
   "outputs": [],
   "source": [
    "z = 20*x1 + 20*x2 + 31*x3 + 11*x4 + 12*x5\n",
    "prob2 += z"
   ]
  },
  {
   "cell_type": "code",
   "execution_count": 35,
   "id": "dfeb710b",
   "metadata": {},
   "outputs": [],
   "source": [
    "rest1 = 1*x1 + 1*x3 + 1*x4 + 2*x5\n",
    "rest2 = 1*x2 + 2*x3 + 1*x4 + 1*x5\n",
    "\n",
    "prob2 += (rest1 >= 21)\n",
    "prob2 += (rest1 >= 12)"
   ]
  },
  {
   "cell_type": "code",
   "execution_count": 36,
   "id": "a0b84a55",
   "metadata": {},
   "outputs": [],
   "source": [
    "optimization_result = prob2.solve()"
   ]
  },
  {
   "cell_type": "code",
   "execution_count": 37,
   "id": "76c33b8d",
   "metadata": {},
   "outputs": [],
   "source": [
    "assert optimization_result == LpStatusOptimal"
   ]
  },
  {
   "cell_type": "code",
   "execution_count": 38,
   "id": "e88d03bf",
   "metadata": {
    "scrolled": false
   },
   "outputs": [
    {
     "name": "stdout",
     "output_type": "stream",
     "text": [
      "x1:0.0\n",
      "x2:0.0\n",
      "x3:0.0\n",
      "x4:1.0\n",
      "x5:10.0\n"
     ]
    }
   ],
   "source": [
    "for var in [x1, x2, x3, x4, x5]:\n",
    "    print(f'{var.name}:{var.value()}')"
   ]
  },
  {
   "cell_type": "code",
   "execution_count": 43,
   "id": "168f1477",
   "metadata": {},
   "outputs": [
    {
     "data": {
      "text/plain": [
       "131"
      ]
     },
     "execution_count": 43,
     "metadata": {},
     "output_type": "execute_result"
    }
   ],
   "source": [
    "zmin = 11*1 + 12*10\n",
    "zmin"
   ]
  },
  {
   "cell_type": "markdown",
   "id": "9366a530",
   "metadata": {},
   "source": [
    "## b)"
   ]
  },
  {
   "cell_type": "markdown",
   "id": "68187f5a",
   "metadata": {},
   "source": [
    "Cálculo do valor esperado do custo de 1 unidade de vitamina K."
   ]
  },
  {
   "cell_type": "code",
   "execution_count": 2,
   "id": "ee2a8a3e",
   "metadata": {},
   "outputs": [
    {
     "data": {
      "text/plain": [
       "21.0"
      ]
     },
     "execution_count": 2,
     "metadata": {},
     "output_type": "execute_result"
    }
   ],
   "source": [
    "Ek = (20*0 + 1*20 + 2*31 + 1*11 + 1*12)/(0 + 1 + 2 + 1 + 1)\n",
    "Ek"
   ]
  },
  {
   "cell_type": "markdown",
   "id": "5493d36f",
   "metadata": {},
   "source": [
    "Sim, o preço de p = 12 centavos/unidade proposto é competitivo com os alimentos disponíveis para satisfazer a necessidade desta vitamina por dois motivos:\n",
    "\n",
    "1º) Como p < Ek, o valor proposto está abaixo do valor esperado para uma unidade de vitamina K, dados os valores disponíveis no mercado.\n",
    "\n",
    "2º) Dada que a otimização para satisfazer as necessidades mínimas diárias dos nutrientes foi de 1 unidade do alimento 4 (que vale 11 centavos/unidade) e de 10 unidades do alimento 5 (que vale 12 centavos/unidade), espera-se que as pessoas que buscam menor preço na satisfação das necessidades mínimas diárias comprem uma unidade de vitamina K por (1 * 11 + 1 * 12 * 10)/11 ~= 11,91 centavos/unidade, que é muito próximo do valor proposto pelo farmacêutico."
   ]
  },
  {
   "cell_type": "markdown",
   "id": "c5e990c1",
   "metadata": {},
   "source": [
    "# Problema 3"
   ]
  },
  {
   "cell_type": "code",
   "execution_count": 4,
   "id": "7bdb9a44",
   "metadata": {},
   "outputs": [],
   "source": [
    "prob3 = LpProblem('P3', LpMinimize)"
   ]
  },
  {
   "cell_type": "code",
   "execution_count": 5,
   "id": "7d71d172",
   "metadata": {},
   "outputs": [],
   "source": [
    "x1 = pulp.LpVariable('x1', lowBound = 0, cat = 'Continuous')\n",
    "x2 = pulp.LpVariable('x2', lowBound = 0, cat = 'Continuous')"
   ]
  },
  {
   "cell_type": "code",
   "execution_count": 6,
   "id": "d923f8a8",
   "metadata": {},
   "outputs": [],
   "source": [
    "z = -x1 - x2\n",
    "prob3 += z"
   ]
  },
  {
   "cell_type": "code",
   "execution_count": 7,
   "id": "3f4e72bd",
   "metadata": {},
   "outputs": [],
   "source": [
    "rest1 = -x1 + x2\n",
    "prob3 += (rest1 >= 1)"
   ]
  },
  {
   "cell_type": "code",
   "execution_count": 8,
   "id": "89f351a8",
   "metadata": {},
   "outputs": [],
   "source": [
    "optimization_result = prob3.solve()"
   ]
  },
  {
   "cell_type": "code",
   "execution_count": 9,
   "id": "eeeb0bc4",
   "metadata": {},
   "outputs": [
    {
     "ename": "AssertionError",
     "evalue": "",
     "output_type": "error",
     "traceback": [
      "\u001b[1;31m---------------------------------------------------------------------------\u001b[0m",
      "\u001b[1;31mAssertionError\u001b[0m                            Traceback (most recent call last)",
      "\u001b[1;32m~\\AppData\\Local\\Temp/ipykernel_9888/156797350.py\u001b[0m in \u001b[0;36m<module>\u001b[1;34m\u001b[0m\n\u001b[1;32m----> 1\u001b[1;33m \u001b[1;32massert\u001b[0m \u001b[0moptimization_result\u001b[0m \u001b[1;33m==\u001b[0m \u001b[0mLpStatusOptimal\u001b[0m\u001b[1;33m\u001b[0m\u001b[1;33m\u001b[0m\u001b[0m\n\u001b[0m",
      "\u001b[1;31mAssertionError\u001b[0m: "
     ]
    }
   ],
   "source": [
    "assert optimization_result == LpStatusOptimal"
   ]
  },
  {
   "cell_type": "markdown",
   "id": "7d7a7606",
   "metadata": {},
   "source": [
    "Ou seja, o problema primal é de fato inviável."
   ]
  }
 ],
 "metadata": {
  "kernelspec": {
   "display_name": "Python 3 (ipykernel)",
   "language": "python",
   "name": "python3"
  },
  "language_info": {
   "codemirror_mode": {
    "name": "ipython",
    "version": 3
   },
   "file_extension": ".py",
   "mimetype": "text/x-python",
   "name": "python",
   "nbconvert_exporter": "python",
   "pygments_lexer": "ipython3",
   "version": "3.9.7"
  },
  "vscode": {
   "interpreter": {
    "hash": "b1be5a1e9e85905d3e4e97ef1b769f5caa870a8a58c9f9e0ae488b6f0a0e1baf"
   }
  }
 },
 "nbformat": 4,
 "nbformat_minor": 5
}
