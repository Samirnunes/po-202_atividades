{
 "cells": [
  {
   "cell_type": "markdown",
   "metadata": {},
   "source": [
    "### Importando bibliotecas úteis"
   ]
  },
  {
   "cell_type": "code",
   "execution_count": 40,
   "metadata": {},
   "outputs": [],
   "source": [
    "import pandas as pd\n",
    "import numpy as np\n",
    "from pulp import *"
   ]
  },
  {
   "cell_type": "markdown",
   "metadata": {},
   "source": [
    "### Definindo as filiais"
   ]
  },
  {
   "cell_type": "code",
   "execution_count": 41,
   "metadata": {},
   "outputs": [],
   "source": [
    "Filiais = [\"Seattle\", \"San Francisco\", \"Las Vegas\", \"Phoenix\", \"Denver\"]\n",
    "\n",
    "# Como todos são iguais, precisa mesmo desse dict?\n",
    "Estoque = {\n",
    "            \"Seattle\": 175,\n",
    "            \"San Francisco\": 175,\n",
    "            \"Las Vegas\": 175, \n",
    "            \"Phoenix\": 175, \n",
    "            \"Denver\": 175\n",
    "}\n",
    "\n",
    "EntregaMinima = {\n",
    "            \"Seattle\": 25,\n",
    "            \"San Francisco\": 30,\n",
    "            \"Las Vegas\": 30, \n",
    "            \"Phoenix\": 35, \n",
    "            \"Denver\": 25\n",
    "}"
   ]
  },
  {
   "cell_type": "markdown",
   "metadata": {},
   "source": [
    "### Definindo os contratos"
   ]
  },
  {
   "cell_type": "code",
   "execution_count": 42,
   "metadata": {},
   "outputs": [],
   "source": [
    "Contratos = [\"Washington\", \"Oregon\", \"California\", \"Idaho\", \"Nevada\", \"Montana\", \"Wyoming\", \"Arizona\", \"Utah\", \"Colorado\"]\n",
    "\n",
    "Demanda = {\n",
    "            \"Washington\": 100,\n",
    "            \"Oregon\": 65,\n",
    "            \"California\": 100,\n",
    "            \"Idaho\": 70,\n",
    "            \"Nevada\": 120,\n",
    "            \"Montana\": 60,\n",
    "            \"Wyoming\": 75,\n",
    "            \"Arizona\": 100,\n",
    "            \"Utah\": 95,\n",
    "            \"Colorado\": 85   \n",
    "}\n",
    "\n",
    "# Por enquanto, comentado para não deixar o problema complexo demais\n",
    "MinDeFornecedores = {\n",
    "            \"Washington\": 3,\n",
    "            \"Oregon\": 2,\n",
    "            \"California\": 3,\n",
    "            \"Idaho\": 2,\n",
    "            \"Nevada\": 3,\n",
    "            \"Montana\": 2,\n",
    "            \"Wyoming\": 2,\n",
    "            \"Arizona\": 3,\n",
    "            \"Utah\": 3,\n",
    "            \"Colorado\": 3   \n",
    "}"
   ]
  },
  {
   "cell_type": "markdown",
   "metadata": {},
   "source": [
    "### Custos de entrega, em R$/unid., para cada contrato a partir de cada filial"
   ]
  },
  {
   "cell_type": "code",
   "execution_count": 43,
   "metadata": {},
   "outputs": [],
   "source": [
    "custos = [\n",
    "    # Washington, Oregon, California, Idaho, Nevada, Montana, Wyoming, Arizona, Utah, Colorado\n",
    "    [10, 15, 10, 15, 20, 20, 20, 40, 10, 30], # Seattle\n",
    "    [30, 15, 10, 20, 10, 20, 20, 30, 20, 30], # San Francisco\n",
    "    [20, 10, 5, 15, 10, 15, 15, 10, 5, 5], # Las Vegas\n",
    "    [40, 25, 15, 20, 10, 30, 30, 10, 15, 10], # Phoenix\n",
    "    [30, 30, 25, 10, 5, 35, 35, 15, 5, 10] # Denver\n",
    "]\n",
    "\n",
    "# Transformando num dicionário:\n",
    "custos = makeDict([Filiais, Contratos], custos, 0) # Filiais é o nome das rows, Contratos é o nome das columns, custos são os elementos das matrizes. 0 é o default"
   ]
  },
  {
   "cell_type": "markdown",
   "metadata": {},
   "source": [
    "### Lista de Tuplas com todas as rotas possíveis"
   ]
  },
  {
   "cell_type": "code",
   "execution_count": 44,
   "metadata": {},
   "outputs": [],
   "source": [
    "Rotas = [(f, c) for f in Filiais for c in Contratos]\n",
    "# Por exemplo, haverá a rota ([\"Washington\"][\"Seattle\"])"
   ]
  },
  {
   "cell_type": "markdown",
   "metadata": {},
   "source": [
    "### Custo das Rotas"
   ]
  },
  {
   "cell_type": "code",
   "execution_count": 45,
   "metadata": {},
   "outputs": [],
   "source": [
    "# vars significa variáveis\n",
    "# 0: custo mínimo, None: (não há) custo máximo, LpInteger significa variáveis inteiras\n",
    "vars = LpVariable.dicts(\"Rotas\", (Filiais, Contratos), 0, None, LpInteger)"
   ]
  },
  {
   "cell_type": "markdown",
   "metadata": {},
   "source": [
    "### Definindo o problema de otimização"
   ]
  },
  {
   "cell_type": "code",
   "execution_count": 46,
   "metadata": {},
   "outputs": [
    {
     "name": "stderr",
     "output_type": "stream",
     "text": [
      "c:\\Python310\\lib\\site-packages\\pulp\\pulp.py:1352: UserWarning: Spaces are not permitted in the name. Converted to '_'\n",
      "  warnings.warn(\"Spaces are not permitted in the name. Converted to '_'\")\n"
     ]
    }
   ],
   "source": [
    "prob = LpProblem(\"Problema da Distribuição de Produtos\", LpMinimize)"
   ]
  },
  {
   "cell_type": "markdown",
   "metadata": {},
   "source": [
    "### Adicionando a função objetivo\n"
   ]
  },
  {
   "cell_type": "code",
   "execution_count": 47,
   "metadata": {},
   "outputs": [],
   "source": [
    "prob += (\n",
    "    lpSum([vars[f][c] * custos[f][c] for (f, c) in Rotas]),\n",
    "    \"Soma_dos_Custos_de_Transporte\"\n",
    ")"
   ]
  },
  {
   "cell_type": "markdown",
   "metadata": {},
   "source": [
    "### Adicionando as restrições de estoque e demanda"
   ]
  },
  {
   "cell_type": "code",
   "execution_count": 48,
   "metadata": {},
   "outputs": [],
   "source": [
    "for f in Filiais:\n",
    "    prob += (\n",
    "        lpSum([vars[f][c] for c in Contratos]) <= Estoque[f],\n",
    "        \"Soma_dos_Produtos_na_Filial_%s\" % f,\n",
    "    )\n",
    "\n",
    "for c in Contratos:\n",
    "    prob += (\n",
    "        lpSum([vars[f][c] for f in Filiais]) >= Demanda[c],\n",
    "        \"Soma_dos_Produtos_no_Contrato_%s\" % c,\n",
    "    )"
   ]
  },
  {
   "cell_type": "markdown",
   "metadata": {},
   "source": [
    "### Adicionando restrição de Número Mínimo de Fornecedores"
   ]
  },
  {
   "cell_type": "code",
   "execution_count": 49,
   "metadata": {},
   "outputs": [],
   "source": [
    "# for c in Contratos:\n",
    "#     # print(len([vars[f][c].varValue for f in Filiais if vars[f][c].varValue > 0]))\n",
    "#     print([vars[f][c].varValue ])"
   ]
  },
  {
   "cell_type": "code",
   "execution_count": 50,
   "metadata": {},
   "outputs": [],
   "source": [
    "# for c in Contratos:\n",
    "#     prob += (\n",
    "#         len([vars[f][c].varValue for f in Filiais if vars[f][c].varValue > 0]) \n",
    "#                                                         >= MinDeFornecedores[c],\n",
    "#         \"Numero_min_de_Fornecedores_%s\" %c\n",
    "#     )"
   ]
  },
  {
   "cell_type": "markdown",
   "metadata": {},
   "source": [
    "### Resolvendo o Problema"
   ]
  },
  {
   "cell_type": "code",
   "execution_count": 51,
   "metadata": {},
   "outputs": [
    {
     "name": "stdout",
     "output_type": "stream",
     "text": [
      "Status: Optimal\n",
      "Rotas_Denver_Arizona = 0.0\n",
      "Rotas_Denver_California = 0.0\n",
      "Rotas_Denver_Colorado = 0.0\n",
      "Rotas_Denver_Idaho = 70.0\n",
      "Rotas_Denver_Montana = 0.0\n",
      "Rotas_Denver_Nevada = 35.0\n",
      "Rotas_Denver_Oregon = 0.0\n",
      "Rotas_Denver_Utah = 70.0\n",
      "Rotas_Denver_Washington = 0.0\n",
      "Rotas_Denver_Wyoming = 0.0\n",
      "Rotas_Las_Vegas_Arizona = 0.0\n",
      "Rotas_Las_Vegas_California = 0.0\n",
      "Rotas_Las_Vegas_Colorado = 85.0\n",
      "Rotas_Las_Vegas_Idaho = 0.0\n",
      "Rotas_Las_Vegas_Montana = 0.0\n",
      "Rotas_Las_Vegas_Nevada = 0.0\n",
      "Rotas_Las_Vegas_Oregon = 65.0\n",
      "Rotas_Las_Vegas_Utah = 25.0\n",
      "Rotas_Las_Vegas_Washington = 0.0\n",
      "Rotas_Las_Vegas_Wyoming = 0.0\n",
      "Rotas_Phoenix_Arizona = 100.0\n",
      "Rotas_Phoenix_California = 0.0\n",
      "Rotas_Phoenix_Colorado = 0.0\n",
      "Rotas_Phoenix_Idaho = 0.0\n",
      "Rotas_Phoenix_Montana = 0.0\n",
      "Rotas_Phoenix_Nevada = 75.0\n",
      "Rotas_Phoenix_Oregon = 0.0\n",
      "Rotas_Phoenix_Utah = 0.0\n",
      "Rotas_Phoenix_Washington = 0.0\n",
      "Rotas_Phoenix_Wyoming = 0.0\n",
      "Rotas_San_Francisco_Arizona = 0.0\n",
      "Rotas_San_Francisco_California = 25.0\n",
      "Rotas_San_Francisco_Colorado = 0.0\n",
      "Rotas_San_Francisco_Idaho = 0.0\n",
      "Rotas_San_Francisco_Montana = 60.0\n",
      "Rotas_San_Francisco_Nevada = 10.0\n",
      "Rotas_San_Francisco_Oregon = 0.0\n",
      "Rotas_San_Francisco_Utah = 0.0\n",
      "Rotas_San_Francisco_Washington = 0.0\n",
      "Rotas_San_Francisco_Wyoming = 75.0\n",
      "Rotas_Seattle_Arizona = 0.0\n",
      "Rotas_Seattle_California = 75.0\n",
      "Rotas_Seattle_Colorado = 0.0\n",
      "Rotas_Seattle_Idaho = 0.0\n",
      "Rotas_Seattle_Montana = 0.0\n",
      "Rotas_Seattle_Nevada = 0.0\n",
      "Rotas_Seattle_Oregon = 0.0\n",
      "Rotas_Seattle_Utah = 0.0\n",
      "Rotas_Seattle_Washington = 100.0\n",
      "Rotas_Seattle_Wyoming = 0.0\n"
     ]
    }
   ],
   "source": [
    "prob.solve()\n",
    "\n",
    "print(\"Status:\", LpStatus[prob.status])\n",
    "\n",
    "for v in prob.variables():\n",
    "    print(v.name, \"=\", v.varValue)"
   ]
  },
  {
   "cell_type": "markdown",
   "metadata": {},
   "source": [
    "### Organizando em forma de Dataframe"
   ]
  },
  {
   "cell_type": "code",
   "execution_count": 52,
   "metadata": {},
   "outputs": [
    {
     "data": {
      "text/plain": [
       "array([[  0.,   0.,   0.,  70.,   0.,  35.,   0.,  70.,   0.,   0.],\n",
       "       [  0.,   0.,  85.,   0.,   0.,   0.,  65.,  25.,   0.,   0.],\n",
       "       [100.,   0.,   0.,   0.,   0.,  75.,   0.,   0.,   0.,   0.],\n",
       "       [  0.,  25.,   0.,   0.,  60.,  10.,   0.,   0.,   0.,  75.],\n",
       "       [  0.,  75.,   0.,   0.,   0.,   0.,   0.,   0., 100.,   0.]])"
      ]
     },
     "execution_count": 52,
     "metadata": {},
     "output_type": "execute_result"
    }
   ],
   "source": [
    "data_array = []\n",
    "for v in prob.variables():\n",
    "    data_array.append(v.varValue)\n",
    "\n",
    "data_array = np.array(data_array).reshape(5, 10)\n",
    "\n",
    "data_array"
   ]
  },
  {
   "cell_type": "markdown",
   "metadata": {},
   "source": [
    "### Organizando Filiais e Contratos em ordem alfabética, para coincidir com os resultados apresentados\n",
    "Os resultados foram apresentados em ordem alfabética"
   ]
  },
  {
   "cell_type": "code",
   "execution_count": 53,
   "metadata": {},
   "outputs": [],
   "source": [
    "Filiais.sort()\n",
    "Contratos.sort()"
   ]
  },
  {
   "cell_type": "code",
   "execution_count": 54,
   "metadata": {},
   "outputs": [
    {
     "data": {
      "text/html": [
       "<div>\n",
       "<style scoped>\n",
       "    .dataframe tbody tr th:only-of-type {\n",
       "        vertical-align: middle;\n",
       "    }\n",
       "\n",
       "    .dataframe tbody tr th {\n",
       "        vertical-align: top;\n",
       "    }\n",
       "\n",
       "    .dataframe thead th {\n",
       "        text-align: right;\n",
       "    }\n",
       "</style>\n",
       "<table border=\"1\" class=\"dataframe\">\n",
       "  <thead>\n",
       "    <tr style=\"text-align: right;\">\n",
       "      <th></th>\n",
       "      <th>Arizona</th>\n",
       "      <th>California</th>\n",
       "      <th>Colorado</th>\n",
       "      <th>Idaho</th>\n",
       "      <th>Montana</th>\n",
       "      <th>Nevada</th>\n",
       "      <th>Oregon</th>\n",
       "      <th>Utah</th>\n",
       "      <th>Washington</th>\n",
       "      <th>Wyoming</th>\n",
       "    </tr>\n",
       "  </thead>\n",
       "  <tbody>\n",
       "    <tr>\n",
       "      <th>Denver</th>\n",
       "      <td>0.0</td>\n",
       "      <td>0.0</td>\n",
       "      <td>0.0</td>\n",
       "      <td>70.0</td>\n",
       "      <td>0.0</td>\n",
       "      <td>35.0</td>\n",
       "      <td>0.0</td>\n",
       "      <td>70.0</td>\n",
       "      <td>0.0</td>\n",
       "      <td>0.0</td>\n",
       "    </tr>\n",
       "    <tr>\n",
       "      <th>Las Vegas</th>\n",
       "      <td>0.0</td>\n",
       "      <td>0.0</td>\n",
       "      <td>85.0</td>\n",
       "      <td>0.0</td>\n",
       "      <td>0.0</td>\n",
       "      <td>0.0</td>\n",
       "      <td>65.0</td>\n",
       "      <td>25.0</td>\n",
       "      <td>0.0</td>\n",
       "      <td>0.0</td>\n",
       "    </tr>\n",
       "    <tr>\n",
       "      <th>Phoenix</th>\n",
       "      <td>100.0</td>\n",
       "      <td>0.0</td>\n",
       "      <td>0.0</td>\n",
       "      <td>0.0</td>\n",
       "      <td>0.0</td>\n",
       "      <td>75.0</td>\n",
       "      <td>0.0</td>\n",
       "      <td>0.0</td>\n",
       "      <td>0.0</td>\n",
       "      <td>0.0</td>\n",
       "    </tr>\n",
       "    <tr>\n",
       "      <th>San Francisco</th>\n",
       "      <td>0.0</td>\n",
       "      <td>25.0</td>\n",
       "      <td>0.0</td>\n",
       "      <td>0.0</td>\n",
       "      <td>60.0</td>\n",
       "      <td>10.0</td>\n",
       "      <td>0.0</td>\n",
       "      <td>0.0</td>\n",
       "      <td>0.0</td>\n",
       "      <td>75.0</td>\n",
       "    </tr>\n",
       "    <tr>\n",
       "      <th>Seattle</th>\n",
       "      <td>0.0</td>\n",
       "      <td>75.0</td>\n",
       "      <td>0.0</td>\n",
       "      <td>0.0</td>\n",
       "      <td>0.0</td>\n",
       "      <td>0.0</td>\n",
       "      <td>0.0</td>\n",
       "      <td>0.0</td>\n",
       "      <td>100.0</td>\n",
       "      <td>0.0</td>\n",
       "    </tr>\n",
       "  </tbody>\n",
       "</table>\n",
       "</div>"
      ],
      "text/plain": [
       "               Arizona  California  Colorado  Idaho  Montana  Nevada  Oregon  \\\n",
       "Denver             0.0         0.0       0.0   70.0      0.0    35.0     0.0   \n",
       "Las Vegas          0.0         0.0      85.0    0.0      0.0     0.0    65.0   \n",
       "Phoenix          100.0         0.0       0.0    0.0      0.0    75.0     0.0   \n",
       "San Francisco      0.0        25.0       0.0    0.0     60.0    10.0     0.0   \n",
       "Seattle            0.0        75.0       0.0    0.0      0.0     0.0     0.0   \n",
       "\n",
       "               Utah  Washington  Wyoming  \n",
       "Denver         70.0         0.0      0.0  \n",
       "Las Vegas      25.0         0.0      0.0  \n",
       "Phoenix         0.0         0.0      0.0  \n",
       "San Francisco   0.0         0.0     75.0  \n",
       "Seattle         0.0       100.0      0.0  "
      ]
     },
     "execution_count": 54,
     "metadata": {},
     "output_type": "execute_result"
    }
   ],
   "source": [
    "df = pd.DataFrame(data = data_array, index = Filiais, columns = Contratos)\n",
    "\n",
    "df"
   ]
  },
  {
   "cell_type": "markdown",
   "metadata": {},
   "source": [
    "### Adicionando linha de custo"
   ]
  },
  {
   "cell_type": "code",
   "execution_count": 55,
   "metadata": {},
   "outputs": [
    {
     "data": {
      "text/plain": [
       "{'Arizona': 1000.0,\n",
       " 'California': 1000.0,\n",
       " 'Colorado': 425.0,\n",
       " 'Idaho': 700.0,\n",
       " 'Montana': 1200.0,\n",
       " 'Nevada': 1025.0,\n",
       " 'Oregon': 650.0,\n",
       " 'Utah': 475.0,\n",
       " 'Washington': 1000.0,\n",
       " 'Wyoming': 1500.0}"
      ]
     },
     "execution_count": 55,
     "metadata": {},
     "output_type": "execute_result"
    }
   ],
   "source": [
    "custos_individuais = {}\n",
    "for c in Contratos:\n",
    "    # custos_individuais.append(lpSum([vars[f][c].varValue * custos[f][c] for f in Filiais]))\n",
    "    custos_individuais[c] = lpSum([vars[f][c].varValue * custos[f][c] for f in Filiais])\n",
    "    \n",
    "custos_individuais"
   ]
  },
  {
   "cell_type": "markdown",
   "metadata": {},
   "source": [
    "### Finalmente, para o custo total:"
   ]
  },
  {
   "cell_type": "code",
   "execution_count": 56,
   "metadata": {},
   "outputs": [
    {
     "name": "stdout",
     "output_type": "stream",
     "text": [
      "Custo total dos Transportes = R$8975.00\n"
     ]
    }
   ],
   "source": [
    "print(\"Custo total dos Transportes = R${:.2f}\".format(value(prob.objective)))"
   ]
  }
 ],
 "metadata": {
  "kernelspec": {
   "display_name": "Python 3.10.4 64-bit",
   "language": "python",
   "name": "python3"
  },
  "language_info": {
   "codemirror_mode": {
    "name": "ipython",
    "version": 3
   },
   "file_extension": ".py",
   "mimetype": "text/x-python",
   "name": "python",
   "nbconvert_exporter": "python",
   "pygments_lexer": "ipython3",
   "version": "3.10.4"
  },
  "orig_nbformat": 4,
  "vscode": {
   "interpreter": {
    "hash": "369f2c481f4da34e4445cda3fffd2e751bd1c4d706f27375911949ba6bb62e1c"
   }
  }
 },
 "nbformat": 4,
 "nbformat_minor": 2
}
