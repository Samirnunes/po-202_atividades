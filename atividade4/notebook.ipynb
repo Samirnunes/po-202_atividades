{
 "cells": [
  {
   "cell_type": "markdown",
   "id": "4e692d9e",
   "metadata": {},
   "source": [
    "# Atividade 4 - PO-202\n",
    "Grupo:\n",
    "\n",
    "Gabriel Telles Missailidis (ITA)\n",
    "\n",
    "Rafael Silva de Oliveira (ITA)\n",
    "\n",
    "Samir Nunes da Silva (ITA)"
   ]
  },
  {
   "cell_type": "code",
   "execution_count": 248,
   "id": "a4cbbaca",
   "metadata": {},
   "outputs": [],
   "source": [
    "from pulp import *\n"
   ]
  },
  {
   "cell_type": "markdown",
   "id": "6ea3ca5d",
   "metadata": {},
   "source": [
    "# Problema 1: Onde instalar bases do SAMU\n",
    "\n",
    "Uma cidade precisa decidir onde instalar bases do SAMU atendendo todas as regiões da cidade em até 15 minutos. Existem cinco possíveis locais de instalação. O local 1 atende as regiões sul e central em até 15 minutos. O local 2 atende as regiões sul, central e sudeste. O local 3 atende as regiões oeste e central em até 15 minutos. O local 4 atende as regiões central, norte e oeste em até 15 minutos. O local 5 atende as regiões oeste,  norte e sudeste em até 15 minutos.  Deseja-se minimizar o número de bases instaladas. Modele como um problema de programação linear inteira e resolva o PuLP."
   ]
  },
  {
   "cell_type": "code",
   "execution_count": 249,
   "id": "bd530702",
   "metadata": {},
   "outputs": [],
   "source": [
    "prob1 = LpProblem('P1', LpMinimize)\n"
   ]
  },
  {
   "cell_type": "code",
   "execution_count": 250,
   "id": "c3a259f5",
   "metadata": {},
   "outputs": [],
   "source": [
    "x1 = pulp.LpVariable('x1', lowBound=0, cat='Integer')  # Base do local 1\n",
    "x2 = pulp.LpVariable('x2', lowBound=0, cat='Integer')  # Base do local 2\n",
    "x3 = pulp.LpVariable('x3', lowBound=0, cat='Integer')  # Base do local 3\n",
    "x4 = pulp.LpVariable('x4', lowBound=0, cat='Integer')  # Base do local 4\n",
    "x5 = pulp.LpVariable('x5', lowBound=0, cat='Integer')  # Base do local 5\n"
   ]
  },
  {
   "cell_type": "code",
   "execution_count": 251,
   "id": "ef8b6687",
   "metadata": {},
   "outputs": [],
   "source": [
    "z = x1 + x2 + x3 + x4 + x5\n",
    "prob1 += z\n"
   ]
  },
  {
   "cell_type": "code",
   "execution_count": 252,
   "id": "db4a06de",
   "metadata": {},
   "outputs": [],
   "source": [
    "rest1 = x1 + x2  # região sul\n",
    "rest2 = x1 + x2 + x3 + x4  # região central\n",
    "rest3 = x2 + x5  # região sudeste\n",
    "rest4 = x4 + x5  # região norte\n",
    "rest5 = x3 + x4 + x5  # região oeste\n",
    "\n",
    "prob1 += (rest1 >= 1)\n",
    "prob1 += (rest2 >= 1)\n",
    "prob1 += (rest3 >= 1)\n",
    "prob1 += (rest4 >= 1)\n",
    "prob1 += (rest5 >= 1)\n"
   ]
  },
  {
   "cell_type": "code",
   "execution_count": 253,
   "id": "df7c6094",
   "metadata": {},
   "outputs": [
    {
     "data": {
      "text/plain": [
       "P1:\n",
       "MINIMIZE\n",
       "1*x1 + 1*x2 + 1*x3 + 1*x4 + 1*x5 + 0\n",
       "SUBJECT TO\n",
       "_C1: x1 + x2 >= 1\n",
       "\n",
       "_C2: x1 + x2 + x3 + x4 >= 1\n",
       "\n",
       "_C3: x2 + x5 >= 1\n",
       "\n",
       "_C4: x4 + x5 >= 1\n",
       "\n",
       "_C5: x3 + x4 + x5 >= 1\n",
       "\n",
       "VARIABLES\n",
       "0 <= x1 Integer\n",
       "0 <= x2 Integer\n",
       "0 <= x3 Integer\n",
       "0 <= x4 Integer\n",
       "0 <= x5 Integer"
      ]
     },
     "execution_count": 253,
     "metadata": {},
     "output_type": "execute_result"
    }
   ],
   "source": [
    "prob1\n"
   ]
  },
  {
   "cell_type": "code",
   "execution_count": 254,
   "id": "e71169d9",
   "metadata": {},
   "outputs": [],
   "source": [
    "optimization_result = prob1.solve()\n"
   ]
  },
  {
   "cell_type": "code",
   "execution_count": 255,
   "id": "bcacbb6e",
   "metadata": {},
   "outputs": [],
   "source": [
    "assert optimization_result == LpStatusOptimal\n"
   ]
  },
  {
   "cell_type": "code",
   "execution_count": 256,
   "id": "a76a026c",
   "metadata": {},
   "outputs": [
    {
     "name": "stdout",
     "output_type": "stream",
     "text": [
      "x1:1.0\n",
      "x2:0.0\n",
      "x3:0.0\n",
      "x4:0.0\n",
      "x5:1.0\n"
     ]
    }
   ],
   "source": [
    "for var in [x1, x2, x3, x4, x5]:\n",
    "    print(f'{var.name}:{var.value()}')\n"
   ]
  },
  {
   "cell_type": "markdown",
   "id": "98143456",
   "metadata": {},
   "source": [
    "# Problema 2: Organizando o transporte corporativo\n",
    "Considere uma empresa que possui 402 empregados, distrbuídos em 30 pontos na cidade, e precisa organizar o transporte de ida e volta destes empregados e forma a minimizar seu custo mensal. A empresa pode alugar até 10 ônibus com 48 lugares, doravante ônibus 1, e até 30 micro-ônibus com 16 lugares, doravante ônibus 2. O ônibus 1 tem custo fixo mensal de R$15000,00 e o 2 de R$4000,00. O custo por km rodado do õnibus 1 é de R$3,20 e do ônibus 2 é R$2,90. Os demais dados seguem no arquivo dat.txt. Os empregados vão e voltam no mesmo ônibus e do mesmo ponto.A empresa precisa de uma solução, de preferência ótima, em até 1 minuto. Proponha uma solução para a empresa utilizando otimização."
   ]
  },
  {
   "cell_type": "markdown",
   "id": "220839de",
   "metadata": {},
   "source": [
    "### Matriz de distâncias"
   ]
  },
  {
   "cell_type": "code",
   "execution_count": 257,
   "id": "3c841a5e",
   "metadata": {},
   "outputs": [],
   "source": [
    "import csv"
   ]
  },
  {
   "cell_type": "markdown",
   "id": "f8f88ab4",
   "metadata": {},
   "source": [
    "Manualmente, preparou-se previamente os dados de forma a considerar a a empresa como ponto 0. Além disso, foram adicionados as distâncias entre a empresa e os pontos, de forma a obter uma matriz 31 x 31, com as relações entre os pontos 0 (empresa), 1, 2, ..., 30."
   ]
  },
  {
   "cell_type": "code",
   "execution_count": 258,
   "id": "26566b72",
   "metadata": {},
   "outputs": [],
   "source": [
    "with open('mat.csv', newline='') as f:\n",
    "    reader = csv.reader(f, delimiter=';')\n",
    "    mat_distancias = list(reader)\n",
    "\n",
    "# convertendo os elementos da matriz de str para float\n",
    "for i in range(0, 31):\n",
    "   for j in range(0, 31):\n",
    "        mat_distancias[i][j] = float(mat_distancias[i][j])\n",
    "\n"
   ]
  },
  {
   "cell_type": "markdown",
   "id": "061b0003",
   "metadata": {},
   "source": [
    "### Número de empregados por ponto"
   ]
  },
  {
   "cell_type": "code",
   "execution_count": 259,
   "id": "6579304a",
   "metadata": {},
   "outputs": [],
   "source": [
    "numero_empregados = [\n",
    "    0,  # Ponto 0, empresa\n",
    "    14, # Ponto 1\n",
    "    13, # Ponto 2\n",
    "    15, # ...\n",
    "    10,\n",
    "    10,\n",
    "    15,\n",
    "    5,\n",
    "    12,\n",
    "    15,\n",
    "    16,\n",
    "    12,\n",
    "    6,\n",
    "    13,\n",
    "    18,\n",
    "    15,\n",
    "    18,\n",
    "    17,\n",
    "    9,\n",
    "    16,\n",
    "    16,\n",
    "    15,\n",
    "    13,\n",
    "    11,\n",
    "    15,\n",
    "    14,\n",
    "    12,\n",
    "    11,\n",
    "    18,\n",
    "    16,\n",
    "    12\n",
    "]\n"
   ]
  },
  {
   "cell_type": "markdown",
   "id": "c90080eb",
   "metadata": {},
   "source": [
    "### Custos dos ônibus"
   ]
  },
  {
   "cell_type": "code",
   "execution_count": 260,
   "id": "fc941146",
   "metadata": {},
   "outputs": [],
   "source": [
    "custo_km = ([3.2] * 10 + [2.9] * 30)"
   ]
  },
  {
   "cell_type": "markdown",
   "id": "93d0da6f",
   "metadata": {},
   "source": [
    "### Capacidade dos ônibus"
   ]
  },
  {
   "cell_type": "code",
   "execution_count": 261,
   "id": "1eb198f7",
   "metadata": {},
   "outputs": [],
   "source": [
    "capacidade_onibus = ([48] * 10 + [16] * 30)"
   ]
  },
  {
   "cell_type": "markdown",
   "id": "acb65445",
   "metadata": {},
   "source": [
    "### Custos fixos associados"
   ]
  },
  {
   "cell_type": "code",
   "execution_count": 262,
   "id": "96db7b72",
   "metadata": {},
   "outputs": [],
   "source": [
    "custos_fixos = ([15000] * 10 + [4000] * 30)"
   ]
  },
  {
   "cell_type": "markdown",
   "id": "feb7deea",
   "metadata": {},
   "source": [
    "### Definição dos Pontos e Ônibus"
   ]
  },
  {
   "cell_type": "code",
   "execution_count": 263,
   "id": "140c64d0",
   "metadata": {},
   "outputs": [],
   "source": [
    "pontos = list(range(0, 31))\n",
    "onibus = list(range(0, 40))"
   ]
  },
  {
   "cell_type": "markdown",
   "id": "fb459125",
   "metadata": {},
   "source": [
    "### Criação das variáveis de caminhos e rotas"
   ]
  },
  {
   "cell_type": "code",
   "execution_count": 264,
   "id": "1db9bb54",
   "metadata": {},
   "outputs": [],
   "source": [
    "Caminhos = [(i, j) for i in pontos for j in pontos]"
   ]
  },
  {
   "cell_type": "code",
   "execution_count": 265,
   "id": "6b9caf44",
   "metadata": {},
   "outputs": [],
   "source": [
    "Rotas = [(i, j, k) for i in pontos for j in pontos for k in onibus]"
   ]
  },
  {
   "cell_type": "markdown",
   "id": "1f4ef419",
   "metadata": {},
   "source": [
    "### Definindo a variável a ser otimizada"
   ]
  },
  {
   "cell_type": "code",
   "execution_count": 266,
   "id": "fcda91e4",
   "metadata": {},
   "outputs": [],
   "source": [
    "entrega = LpVariable.dicts(\"Entrega\", (pontos, pontos, onibus), 0, 1, LpInteger)"
   ]
  },
  {
   "cell_type": "markdown",
   "id": "18f6b11a",
   "metadata": {},
   "source": [
    "### Definindo o problema de otimização"
   ]
  },
  {
   "cell_type": "code",
   "execution_count": 267,
   "id": "d3e34e3f",
   "metadata": {},
   "outputs": [],
   "source": [
    "prob2 = LpProblem(\"P2\", LpMinimize)"
   ]
  },
  {
   "cell_type": "markdown",
   "id": "5931ba61",
   "metadata": {},
   "source": [
    "### Adicionando a função objetivo"
   ]
  },
  {
   "cell_type": "code",
   "execution_count": 268,
   "id": "c4f5968b",
   "metadata": {},
   "outputs": [],
   "source": [
    "prob2 += (\n",
    "    lpSum([entrega[i][j][k] * custo_km[k] * mat_distancias[i][j] for (i, j, k) in Rotas]) \n",
    "                                +        \n",
    "    lpSum([entrega[0][j][k] * custos_fixos[k]/44 for j in pontos[1:]] for k in onibus), # divisão por 22 garante que o valor é diário\n",
    "    \"Soma_dos_custos_de_transporte\"\n",
    ")"
   ]
  },
  {
   "cell_type": "markdown",
   "id": "3482838d",
   "metadata": {},
   "source": [
    "### Adicionando restrições"
   ]
  },
  {
   "cell_type": "markdown",
   "id": "3d0b0ff3",
   "metadata": {},
   "source": [
    "Pontos de parada"
   ]
  },
  {
   "cell_type": "code",
   "execution_count": 269,
   "id": "9997d270",
   "metadata": {},
   "outputs": [],
   "source": [
    "for i in pontos[1:]: # exceto o ponto 0, que é a fábrica\n",
    "    prob2 += (\n",
    "        lpSum([entrega[i][j][k] for j in pontos for k in onibus]) == 1,\n",
    "        \"Entregas_a_partir_do_ponto_%s\" % i,\n",
    "    )\n",
    "\n",
    "for j in pontos[1:]: # exceto o ponto 0, que é a fábrica\n",
    "    prob2 += (\n",
    "        lpSum([entrega[i][j][k] for i in pontos for k in onibus]) == 1,\n",
    "        \"Entregas_ate_o_ponto_%s\" % j,\n",
    "    )"
   ]
  },
  {
   "cell_type": "markdown",
   "id": "058043a9",
   "metadata": {},
   "source": [
    "Fábrica"
   ]
  },
  {
   "cell_type": "code",
   "execution_count": 270,
   "id": "b62cc48a",
   "metadata": {},
   "outputs": [],
   "source": [
    "for k in onibus:\n",
    "    prob2 += (\n",
    "        lpSum([entrega[0][j][k] for j in pontos]) <= 1,\n",
    "        \"Saindo_da_fabrica_onibus_%s\" % k,\n",
    "    )\n",
    "    prob2 += (\n",
    "        lpSum([entrega[i][0][k] for i in pontos]) <= 1,\n",
    "        \"Chegando_na_fabrica_onibus_%s\" % k,\n",
    "    )"
   ]
  },
  {
   "cell_type": "markdown",
   "id": "652fe414",
   "metadata": {},
   "source": [
    "### Restrições relacionadas à \"entrega\" de empregados nos pontos"
   ]
  },
  {
   "cell_type": "code",
   "execution_count": 271,
   "id": "04103767",
   "metadata": {},
   "outputs": [],
   "source": [
    "for k in onibus:\n",
    "    prob2 += (\n",
    "        lpSum([entrega[i][j][k] * numero_empregados[j] for (i, j) in Caminhos]) <= capacidade_onibus[k],\n",
    "        \"Saindo_do_ponto_onibus_%s\" % k,\n",
    "    )\n",
    "\n",
    "    prob2 += (\n",
    "        lpSum([entrega[i][j][k] * numero_empregados[i] for (i, j) in Caminhos]) == lpSum([entrega[i][j][k] * numero_empregados[j] for (i, j) in Caminhos]),\n",
    "        \"Chegando_no_ponto_onibus_%s\" % k,\n",
    "    )\n",
    "\n",
    "    # Aqui, começamos a partir do índice 1 para desconsiderar a empresa, que é o ponto inicial\n",
    "    prob2 += (\n",
    "        lpSum([entrega[i][j][k] + entrega[j][i][k] for i in pontos[1:] for j in pontos[1:]]) <= 1,\n",
    "        \"Unicidade_dos_caminhos_do_onibus_%s\" % k,\n",
    "    )"
   ]
  },
  {
   "cell_type": "markdown",
   "id": "3cd873c4",
   "metadata": {},
   "source": [
    "### Resolvendo o problema"
   ]
  },
  {
   "cell_type": "code",
   "execution_count": null,
   "id": "6662c033",
   "metadata": {},
   "outputs": [],
   "source": [
    "prob2.solve()\n",
    "\n",
    "print(\"Status:\", LpStatus[prob2.status])"
   ]
  },
  {
   "cell_type": "markdown",
   "id": "8672f9a6",
   "metadata": {},
   "source": [
    "### Matriz de utilização dos ônibus"
   ]
  },
  {
   "cell_type": "code",
   "execution_count": null,
   "id": "765380bb",
   "metadata": {},
   "outputs": [],
   "source": [
    "for k in onibus:\n",
    "    print(k,\" = \",lpSum([entrega[i][j][k].varValue for (i, j) in Caminhos]))"
   ]
  },
  {
   "cell_type": "markdown",
   "id": "69c58570",
   "metadata": {},
   "source": [
    "### Finalmente, para o custo total:"
   ]
  },
  {
   "cell_type": "code",
   "execution_count": null,
   "id": "c7f91b64",
   "metadata": {},
   "outputs": [],
   "source": [
    "print(\"Custo total dos Transportes = R${:.2f}\".format(value(prob2.objective)))"
   ]
  },
  {
   "cell_type": "code",
   "execution_count": null,
   "id": "a4e8c96d",
   "metadata": {},
   "outputs": [],
   "source": [
    "# imprimir 40 matrizes 31 x 31\n",
    "# for k in onibus:\n",
    "#     print([entrega[i][j][k].varValue for (i,j) in Caminhos])"
   ]
  },
  {
   "cell_type": "markdown",
   "id": "c48795e7",
   "metadata": {},
   "source": [
    "# Problema 3: O Problema da Galeria de Arte\n",
    "\n",
    "Considere uma galeria de arte com muitos corredores e curvas. A galeria está exibindo pinturas muito valiosas e você deseja mantê-las seguras. Você está planejando instalar câmeras de segurança em cada corredor para que as câmeras tenham todas as pinturas à vista. Se houver uma câmera de segurança em um corredor, ela poderá ver todas as pinturas do corredor. Se houver uma câmera no canto onde dois corredores se encontram (o turno), ela pode ver pinturas em ambos. Podemos modelar este sistema como um grafo onde os nós representam os lugares onde os corredores se encontram ou quando um corredor se torna um beco sem saída, e as arestas são os corredores. Considere o exemplo abaixo. Modele o problema como PPI e resolva usando o PuLP."
   ]
  },
  {
   "cell_type": "code",
   "execution_count": null,
   "id": "f7d801a9",
   "metadata": {},
   "outputs": [],
   "source": [
    "prob3 = LpProblem('P3', LpMinimize)\n"
   ]
  },
  {
   "cell_type": "code",
   "execution_count": null,
   "id": "7869460b",
   "metadata": {},
   "outputs": [],
   "source": [
    "x1 = LpVariable('x1', lowBound=0, cat='Integer')\n",
    "x2 = LpVariable('x2', lowBound=0, cat='Integer')\n",
    "x3 = LpVariable('x3', lowBound=0, cat='Integer')\n",
    "x4 = LpVariable('x4', lowBound=0, cat='Integer')\n",
    "x5 = LpVariable('x5', lowBound=0, cat='Integer')\n",
    "x6 = LpVariable('x6', lowBound=0, cat='Integer')\n",
    "x7 = LpVariable('x7', lowBound=0, cat='Integer')\n",
    "x8 = LpVariable('x8', lowBound=0, cat='Integer')\n",
    "x1_2 = LpVariable('x1_2', lowBound=0, cat='Integer')\n",
    "x2_3 = LpVariable('x2_3', lowBound=0, cat='Integer')\n",
    "x3_4 = LpVariable('x3_4', lowBound=0, cat='Integer')\n",
    "x4_5 = LpVariable('x4_5', lowBound=0, cat='Integer')\n",
    "x5_6 = LpVariable('x5_6', lowBound=0, cat='Integer')\n",
    "x6_7 = LpVariable('x6_7', lowBound=0, cat='Integer')\n",
    "x7_8 = LpVariable('x7_8', lowBound=0, cat='Integer')\n",
    "x1_8 = LpVariable('x1_8', lowBound=0, cat='Integer')\n",
    "x5_8 = LpVariable('x5_8', lowBound=0, cat='Integer')\n",
    "x2_5 = LpVariable('x2_5', lowBound=0, cat='Integer')\n"
   ]
  },
  {
   "cell_type": "code",
   "execution_count": null,
   "id": "e0f961cb",
   "metadata": {},
   "outputs": [],
   "source": [
    "z = x1 + x2 + x3 + x4 + x5 + x6 + x7 + x1_2 + x2_3 + \\\n",
    "    x3_4 + x4_5 + x5_6 + x6_7 + x7_8 + x1_8 + x5_8 + x2_5\n",
    "prob3 += z\n"
   ]
  },
  {
   "cell_type": "code",
   "execution_count": null,
   "id": "27a154a7",
   "metadata": {},
   "outputs": [],
   "source": [
    "rest1 = x1_2 + x1 + x2\n",
    "rest2 = x2_3 + x2 + x3\n",
    "rest3 = x3_4 + x3 + x4\n",
    "rest4 = x4_5 + x4 + x5\n",
    "rest5 = x5_6 + x5 + x6\n",
    "rest6 = x6_7 + x6 + x7\n",
    "rest7 = x7_8 + x7 + x8\n",
    "rest8 = x1_8 + x1 + x8\n",
    "rest9 = x5_8 + x5 + x8\n",
    "rest10 = x2_5 + x2 + x5\n",
    "\n",
    "prob3 += (rest1 >= 1)\n",
    "prob3 += (rest2 >= 1)\n",
    "prob3 += (rest3 >= 1)\n",
    "prob3 += (rest4 >= 1)\n",
    "prob3 += (rest5 >= 1)\n",
    "prob3 += (rest6 >= 1)\n",
    "prob3 += (rest7 >= 1)\n",
    "prob3 += (rest8 >= 1)\n",
    "prob3 += (rest9 >= 1)\n",
    "prob3 += (rest10 >= 1)\n"
   ]
  },
  {
   "cell_type": "code",
   "execution_count": null,
   "id": "5bb0df47",
   "metadata": {},
   "outputs": [],
   "source": [
    "prob3\n"
   ]
  },
  {
   "cell_type": "code",
   "execution_count": null,
   "id": "c2d850d6",
   "metadata": {},
   "outputs": [],
   "source": [
    "optimization_result = prob3.solve()\n"
   ]
  },
  {
   "cell_type": "code",
   "execution_count": null,
   "id": "a6afc2a4",
   "metadata": {},
   "outputs": [],
   "source": [
    "assert optimization_result == LpStatusOptimal\n"
   ]
  },
  {
   "cell_type": "code",
   "execution_count": null,
   "id": "b5f5e11b",
   "metadata": {
    "scrolled": true
   },
   "outputs": [],
   "source": [
    "var_list = [x1, x2, x3, x4, x5, x6, x7, x8, x1_2, x2_3,\n",
    "            x3_4, x4_5, x5_6, x6_7, x7_8, x1_8, x5_8, x2_5]\n",
    "for var in var_list:\n",
    "    print(f'{var.name}:{var.value()}')\n"
   ]
  },
  {
   "cell_type": "code",
   "execution_count": null,
   "id": "358c9893",
   "metadata": {},
   "outputs": [],
   "source": [
    "s = 0\n",
    "for var in var_list:\n",
    "    s = s + var.value()\n",
    "print(s)\n"
   ]
  }
 ],
 "metadata": {
  "kernelspec": {
   "display_name": "Python 3 (ipykernel)",
   "language": "python",
   "name": "python3"
  },
  "language_info": {
   "codemirror_mode": {
    "name": "ipython",
    "version": 3
   },
   "file_extension": ".py",
   "mimetype": "text/x-python",
   "name": "python",
   "nbconvert_exporter": "python",
   "pygments_lexer": "ipython3",
   "version": "3.9.7"
  },
  "vscode": {
   "interpreter": {
    "hash": "369f2c481f4da34e4445cda3fffd2e751bd1c4d706f27375911949ba6bb62e1c"
   }
  }
 },
 "nbformat": 4,
 "nbformat_minor": 5
}
